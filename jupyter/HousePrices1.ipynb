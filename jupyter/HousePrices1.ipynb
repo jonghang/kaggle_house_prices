{
 "cells": [
  {
   "cell_type": "markdown",
   "metadata": {},
   "source": [
    "# HOUSE PRICES WITH TRANSFORMATION"
   ]
  },
  {
   "cell_type": "markdown",
   "metadata": {},
   "source": [
    "DAI Recommended:\n",
    "\n",
    "* \"square_root\" transformation of TotalBsmtSF\n",
    "* \"square_root\" transformation of OpenPorchSF\n",
    "* \"inverse\" transformation of SalePrice\n",
    "* \"inverse\" transformation of MoSold"
   ]
  },
  {
   "cell_type": "code",
   "execution_count": 1,
   "metadata": {},
   "outputs": [],
   "source": [
    "import os\n",
    "import numpy as np\n",
    "import pandas as pd\n",
    "import math\n",
    "import matplotlib.pyplot as plt\n",
    "# from pandas_profiling import ProfileReport as ppf\n",
    "%matplotlib inline"
   ]
  },
  {
   "cell_type": "markdown",
   "metadata": {},
   "source": [
    "## READ DATA"
   ]
  },
  {
   "cell_type": "code",
   "execution_count": 2,
   "metadata": {},
   "outputs": [
    {
     "name": "stdout",
     "output_type": "stream",
     "text": [
      "(1460, 81)\n"
     ]
    },
    {
     "data": {
      "text/html": [
       "<div>\n",
       "<style scoped>\n",
       "    .dataframe tbody tr th:only-of-type {\n",
       "        vertical-align: middle;\n",
       "    }\n",
       "\n",
       "    .dataframe tbody tr th {\n",
       "        vertical-align: top;\n",
       "    }\n",
       "\n",
       "    .dataframe thead th {\n",
       "        text-align: right;\n",
       "    }\n",
       "</style>\n",
       "<table border=\"1\" class=\"dataframe\">\n",
       "  <thead>\n",
       "    <tr style=\"text-align: right;\">\n",
       "      <th></th>\n",
       "      <th>Id</th>\n",
       "      <th>MSSubClass</th>\n",
       "      <th>MSZoning</th>\n",
       "      <th>LotFrontage</th>\n",
       "      <th>LotArea</th>\n",
       "      <th>Street</th>\n",
       "      <th>Alley</th>\n",
       "      <th>LotShape</th>\n",
       "      <th>LandContour</th>\n",
       "      <th>Utilities</th>\n",
       "      <th>...</th>\n",
       "      <th>PoolArea</th>\n",
       "      <th>PoolQC</th>\n",
       "      <th>Fence</th>\n",
       "      <th>MiscFeature</th>\n",
       "      <th>MiscVal</th>\n",
       "      <th>MoSold</th>\n",
       "      <th>YrSold</th>\n",
       "      <th>SaleType</th>\n",
       "      <th>SaleCondition</th>\n",
       "      <th>SalePrice</th>\n",
       "    </tr>\n",
       "  </thead>\n",
       "  <tbody>\n",
       "    <tr>\n",
       "      <th>0</th>\n",
       "      <td>1</td>\n",
       "      <td>60</td>\n",
       "      <td>RL</td>\n",
       "      <td>65.0</td>\n",
       "      <td>8450</td>\n",
       "      <td>Pave</td>\n",
       "      <td>NaN</td>\n",
       "      <td>Reg</td>\n",
       "      <td>Lvl</td>\n",
       "      <td>AllPub</td>\n",
       "      <td>...</td>\n",
       "      <td>0</td>\n",
       "      <td>NaN</td>\n",
       "      <td>NaN</td>\n",
       "      <td>NaN</td>\n",
       "      <td>0</td>\n",
       "      <td>2</td>\n",
       "      <td>2008</td>\n",
       "      <td>WD</td>\n",
       "      <td>Normal</td>\n",
       "      <td>208500</td>\n",
       "    </tr>\n",
       "    <tr>\n",
       "      <th>1</th>\n",
       "      <td>2</td>\n",
       "      <td>20</td>\n",
       "      <td>RL</td>\n",
       "      <td>80.0</td>\n",
       "      <td>9600</td>\n",
       "      <td>Pave</td>\n",
       "      <td>NaN</td>\n",
       "      <td>Reg</td>\n",
       "      <td>Lvl</td>\n",
       "      <td>AllPub</td>\n",
       "      <td>...</td>\n",
       "      <td>0</td>\n",
       "      <td>NaN</td>\n",
       "      <td>NaN</td>\n",
       "      <td>NaN</td>\n",
       "      <td>0</td>\n",
       "      <td>5</td>\n",
       "      <td>2007</td>\n",
       "      <td>WD</td>\n",
       "      <td>Normal</td>\n",
       "      <td>181500</td>\n",
       "    </tr>\n",
       "    <tr>\n",
       "      <th>2</th>\n",
       "      <td>3</td>\n",
       "      <td>60</td>\n",
       "      <td>RL</td>\n",
       "      <td>68.0</td>\n",
       "      <td>11250</td>\n",
       "      <td>Pave</td>\n",
       "      <td>NaN</td>\n",
       "      <td>IR1</td>\n",
       "      <td>Lvl</td>\n",
       "      <td>AllPub</td>\n",
       "      <td>...</td>\n",
       "      <td>0</td>\n",
       "      <td>NaN</td>\n",
       "      <td>NaN</td>\n",
       "      <td>NaN</td>\n",
       "      <td>0</td>\n",
       "      <td>9</td>\n",
       "      <td>2008</td>\n",
       "      <td>WD</td>\n",
       "      <td>Normal</td>\n",
       "      <td>223500</td>\n",
       "    </tr>\n",
       "    <tr>\n",
       "      <th>3</th>\n",
       "      <td>4</td>\n",
       "      <td>70</td>\n",
       "      <td>RL</td>\n",
       "      <td>60.0</td>\n",
       "      <td>9550</td>\n",
       "      <td>Pave</td>\n",
       "      <td>NaN</td>\n",
       "      <td>IR1</td>\n",
       "      <td>Lvl</td>\n",
       "      <td>AllPub</td>\n",
       "      <td>...</td>\n",
       "      <td>0</td>\n",
       "      <td>NaN</td>\n",
       "      <td>NaN</td>\n",
       "      <td>NaN</td>\n",
       "      <td>0</td>\n",
       "      <td>2</td>\n",
       "      <td>2006</td>\n",
       "      <td>WD</td>\n",
       "      <td>Abnorml</td>\n",
       "      <td>140000</td>\n",
       "    </tr>\n",
       "    <tr>\n",
       "      <th>4</th>\n",
       "      <td>5</td>\n",
       "      <td>60</td>\n",
       "      <td>RL</td>\n",
       "      <td>84.0</td>\n",
       "      <td>14260</td>\n",
       "      <td>Pave</td>\n",
       "      <td>NaN</td>\n",
       "      <td>IR1</td>\n",
       "      <td>Lvl</td>\n",
       "      <td>AllPub</td>\n",
       "      <td>...</td>\n",
       "      <td>0</td>\n",
       "      <td>NaN</td>\n",
       "      <td>NaN</td>\n",
       "      <td>NaN</td>\n",
       "      <td>0</td>\n",
       "      <td>12</td>\n",
       "      <td>2008</td>\n",
       "      <td>WD</td>\n",
       "      <td>Normal</td>\n",
       "      <td>250000</td>\n",
       "    </tr>\n",
       "  </tbody>\n",
       "</table>\n",
       "<p>5 rows × 81 columns</p>\n",
       "</div>"
      ],
      "text/plain": [
       "   Id  MSSubClass MSZoning  LotFrontage  LotArea Street Alley LotShape  \\\n",
       "0   1          60       RL         65.0     8450   Pave   NaN      Reg   \n",
       "1   2          20       RL         80.0     9600   Pave   NaN      Reg   \n",
       "2   3          60       RL         68.0    11250   Pave   NaN      IR1   \n",
       "3   4          70       RL         60.0     9550   Pave   NaN      IR1   \n",
       "4   5          60       RL         84.0    14260   Pave   NaN      IR1   \n",
       "\n",
       "  LandContour Utilities  ... PoolArea PoolQC Fence MiscFeature MiscVal MoSold  \\\n",
       "0         Lvl    AllPub  ...        0    NaN   NaN         NaN       0      2   \n",
       "1         Lvl    AllPub  ...        0    NaN   NaN         NaN       0      5   \n",
       "2         Lvl    AllPub  ...        0    NaN   NaN         NaN       0      9   \n",
       "3         Lvl    AllPub  ...        0    NaN   NaN         NaN       0      2   \n",
       "4         Lvl    AllPub  ...        0    NaN   NaN         NaN       0     12   \n",
       "\n",
       "  YrSold  SaleType  SaleCondition  SalePrice  \n",
       "0   2008        WD         Normal     208500  \n",
       "1   2007        WD         Normal     181500  \n",
       "2   2008        WD         Normal     223500  \n",
       "3   2006        WD        Abnorml     140000  \n",
       "4   2008        WD         Normal     250000  \n",
       "\n",
       "[5 rows x 81 columns]"
      ]
     },
     "execution_count": 2,
     "metadata": {},
     "output_type": "execute_result"
    }
   ],
   "source": [
    "house_prices = pd.read_csv(\"data/house_prices.csv\")\n",
    "print(house_prices.shape)\n",
    "house_prices.head()"
   ]
  },
  {
   "cell_type": "code",
   "execution_count": 3,
   "metadata": {},
   "outputs": [
    {
     "name": "stdout",
     "output_type": "stream",
     "text": [
      "(1459, 80)\n"
     ]
    },
    {
     "data": {
      "text/html": [
       "<div>\n",
       "<style scoped>\n",
       "    .dataframe tbody tr th:only-of-type {\n",
       "        vertical-align: middle;\n",
       "    }\n",
       "\n",
       "    .dataframe tbody tr th {\n",
       "        vertical-align: top;\n",
       "    }\n",
       "\n",
       "    .dataframe thead th {\n",
       "        text-align: right;\n",
       "    }\n",
       "</style>\n",
       "<table border=\"1\" class=\"dataframe\">\n",
       "  <thead>\n",
       "    <tr style=\"text-align: right;\">\n",
       "      <th></th>\n",
       "      <th>Id</th>\n",
       "      <th>MSSubClass</th>\n",
       "      <th>MSZoning</th>\n",
       "      <th>LotFrontage</th>\n",
       "      <th>LotArea</th>\n",
       "      <th>Street</th>\n",
       "      <th>Alley</th>\n",
       "      <th>LotShape</th>\n",
       "      <th>LandContour</th>\n",
       "      <th>Utilities</th>\n",
       "      <th>...</th>\n",
       "      <th>ScreenPorch</th>\n",
       "      <th>PoolArea</th>\n",
       "      <th>PoolQC</th>\n",
       "      <th>Fence</th>\n",
       "      <th>MiscFeature</th>\n",
       "      <th>MiscVal</th>\n",
       "      <th>MoSold</th>\n",
       "      <th>YrSold</th>\n",
       "      <th>SaleType</th>\n",
       "      <th>SaleCondition</th>\n",
       "    </tr>\n",
       "  </thead>\n",
       "  <tbody>\n",
       "    <tr>\n",
       "      <th>0</th>\n",
       "      <td>1461</td>\n",
       "      <td>20</td>\n",
       "      <td>RH</td>\n",
       "      <td>80.0</td>\n",
       "      <td>11622</td>\n",
       "      <td>Pave</td>\n",
       "      <td>NaN</td>\n",
       "      <td>Reg</td>\n",
       "      <td>Lvl</td>\n",
       "      <td>AllPub</td>\n",
       "      <td>...</td>\n",
       "      <td>120</td>\n",
       "      <td>0</td>\n",
       "      <td>NaN</td>\n",
       "      <td>MnPrv</td>\n",
       "      <td>NaN</td>\n",
       "      <td>0</td>\n",
       "      <td>6</td>\n",
       "      <td>2010</td>\n",
       "      <td>WD</td>\n",
       "      <td>Normal</td>\n",
       "    </tr>\n",
       "    <tr>\n",
       "      <th>1</th>\n",
       "      <td>1462</td>\n",
       "      <td>20</td>\n",
       "      <td>RL</td>\n",
       "      <td>81.0</td>\n",
       "      <td>14267</td>\n",
       "      <td>Pave</td>\n",
       "      <td>NaN</td>\n",
       "      <td>IR1</td>\n",
       "      <td>Lvl</td>\n",
       "      <td>AllPub</td>\n",
       "      <td>...</td>\n",
       "      <td>0</td>\n",
       "      <td>0</td>\n",
       "      <td>NaN</td>\n",
       "      <td>NaN</td>\n",
       "      <td>Gar2</td>\n",
       "      <td>12500</td>\n",
       "      <td>6</td>\n",
       "      <td>2010</td>\n",
       "      <td>WD</td>\n",
       "      <td>Normal</td>\n",
       "    </tr>\n",
       "    <tr>\n",
       "      <th>2</th>\n",
       "      <td>1463</td>\n",
       "      <td>60</td>\n",
       "      <td>RL</td>\n",
       "      <td>74.0</td>\n",
       "      <td>13830</td>\n",
       "      <td>Pave</td>\n",
       "      <td>NaN</td>\n",
       "      <td>IR1</td>\n",
       "      <td>Lvl</td>\n",
       "      <td>AllPub</td>\n",
       "      <td>...</td>\n",
       "      <td>0</td>\n",
       "      <td>0</td>\n",
       "      <td>NaN</td>\n",
       "      <td>MnPrv</td>\n",
       "      <td>NaN</td>\n",
       "      <td>0</td>\n",
       "      <td>3</td>\n",
       "      <td>2010</td>\n",
       "      <td>WD</td>\n",
       "      <td>Normal</td>\n",
       "    </tr>\n",
       "    <tr>\n",
       "      <th>3</th>\n",
       "      <td>1464</td>\n",
       "      <td>60</td>\n",
       "      <td>RL</td>\n",
       "      <td>78.0</td>\n",
       "      <td>9978</td>\n",
       "      <td>Pave</td>\n",
       "      <td>NaN</td>\n",
       "      <td>IR1</td>\n",
       "      <td>Lvl</td>\n",
       "      <td>AllPub</td>\n",
       "      <td>...</td>\n",
       "      <td>0</td>\n",
       "      <td>0</td>\n",
       "      <td>NaN</td>\n",
       "      <td>NaN</td>\n",
       "      <td>NaN</td>\n",
       "      <td>0</td>\n",
       "      <td>6</td>\n",
       "      <td>2010</td>\n",
       "      <td>WD</td>\n",
       "      <td>Normal</td>\n",
       "    </tr>\n",
       "    <tr>\n",
       "      <th>4</th>\n",
       "      <td>1465</td>\n",
       "      <td>120</td>\n",
       "      <td>RL</td>\n",
       "      <td>43.0</td>\n",
       "      <td>5005</td>\n",
       "      <td>Pave</td>\n",
       "      <td>NaN</td>\n",
       "      <td>IR1</td>\n",
       "      <td>HLS</td>\n",
       "      <td>AllPub</td>\n",
       "      <td>...</td>\n",
       "      <td>144</td>\n",
       "      <td>0</td>\n",
       "      <td>NaN</td>\n",
       "      <td>NaN</td>\n",
       "      <td>NaN</td>\n",
       "      <td>0</td>\n",
       "      <td>1</td>\n",
       "      <td>2010</td>\n",
       "      <td>WD</td>\n",
       "      <td>Normal</td>\n",
       "    </tr>\n",
       "  </tbody>\n",
       "</table>\n",
       "<p>5 rows × 80 columns</p>\n",
       "</div>"
      ],
      "text/plain": [
       "     Id  MSSubClass MSZoning  LotFrontage  LotArea Street Alley LotShape  \\\n",
       "0  1461          20       RH         80.0    11622   Pave   NaN      Reg   \n",
       "1  1462          20       RL         81.0    14267   Pave   NaN      IR1   \n",
       "2  1463          60       RL         74.0    13830   Pave   NaN      IR1   \n",
       "3  1464          60       RL         78.0     9978   Pave   NaN      IR1   \n",
       "4  1465         120       RL         43.0     5005   Pave   NaN      IR1   \n",
       "\n",
       "  LandContour Utilities  ... ScreenPorch PoolArea PoolQC  Fence MiscFeature  \\\n",
       "0         Lvl    AllPub  ...         120        0    NaN  MnPrv         NaN   \n",
       "1         Lvl    AllPub  ...           0        0    NaN    NaN        Gar2   \n",
       "2         Lvl    AllPub  ...           0        0    NaN  MnPrv         NaN   \n",
       "3         Lvl    AllPub  ...           0        0    NaN    NaN         NaN   \n",
       "4         HLS    AllPub  ...         144        0    NaN    NaN         NaN   \n",
       "\n",
       "  MiscVal MoSold  YrSold  SaleType  SaleCondition  \n",
       "0       0      6    2010        WD         Normal  \n",
       "1   12500      6    2010        WD         Normal  \n",
       "2       0      3    2010        WD         Normal  \n",
       "3       0      6    2010        WD         Normal  \n",
       "4       0      1    2010        WD         Normal  \n",
       "\n",
       "[5 rows x 80 columns]"
      ]
     },
     "execution_count": 3,
     "metadata": {},
     "output_type": "execute_result"
    }
   ],
   "source": [
    "house_prices_submission = pd.read_csv(\"data/house_prices_submission.csv\")\n",
    "print(house_prices_submission.shape)\n",
    "house_prices_submission.head()"
   ]
  },
  {
   "cell_type": "markdown",
   "metadata": {},
   "source": [
    "**Feature: Alley**"
   ]
  },
  {
   "cell_type": "code",
   "execution_count": 4,
   "metadata": {},
   "outputs": [
    {
     "name": "stdout",
     "output_type": "stream",
     "text": [
      "No      1369\n",
      "Grvl      50\n",
      "Pave      41\n",
      "Name: Alley, dtype: int64\n",
      "(1459, 80)\n"
     ]
    }
   ],
   "source": [
    "house_prices['Alley'] = np.where(pd.isna(house_prices.Alley) == True, 'No', house_prices.Alley)\n",
    "print(pd.value_counts(house_prices.Alley))\n",
    "house_prices.head()\n",
    "\n",
    "# submission\n",
    "house_prices_submission['Alley'] = np.where(pd.isna(house_prices_submission.Alley) == True, 'No', \n",
    "                                            house_prices_submission.Alley)\n",
    "\n",
    "print(house_prices_submission.shape)"
   ]
  },
  {
   "cell_type": "markdown",
   "metadata": {},
   "source": [
    "**PoolQC**"
   ]
  },
  {
   "cell_type": "code",
   "execution_count": 5,
   "metadata": {},
   "outputs": [
    {
     "data": {
      "text/plain": [
       "count      7\n",
       "unique     3\n",
       "top       Gd\n",
       "freq       3\n",
       "Name: PoolQC, dtype: object"
      ]
     },
     "execution_count": 5,
     "metadata": {},
     "output_type": "execute_result"
    }
   ],
   "source": [
    "house_prices.PoolQC.describe()"
   ]
  },
  {
   "cell_type": "code",
   "execution_count": 6,
   "metadata": {},
   "outputs": [
    {
     "data": {
      "text/plain": [
       "Gd    3\n",
       "Ex    2\n",
       "Fa    2\n",
       "Name: PoolQC, dtype: int64"
      ]
     },
     "execution_count": 6,
     "metadata": {},
     "output_type": "execute_result"
    }
   ],
   "source": [
    "pd.value_counts(house_prices.PoolQC)"
   ]
  },
  {
   "cell_type": "code",
   "execution_count": 7,
   "metadata": {},
   "outputs": [
    {
     "name": "stdout",
     "output_type": "stream",
     "text": [
      "No    1453\n",
      "Gd       3\n",
      "Ex       2\n",
      "Fa       2\n",
      "Name: PoolQC, dtype: int64\n",
      "(1459, 80)\n"
     ]
    }
   ],
   "source": [
    "# impute PoolQC\n",
    "house_prices['PoolQC'] = np.where(pd.isna(house_prices.PoolQC) == True, 'No', house_prices.PoolQC)\n",
    "print(pd.value_counts(house_prices.PoolQC))\n",
    "house_prices.head()\n",
    "\n",
    "# impute test set\n",
    "house_prices_submission['PoolQC'] = np.where(pd.isna(house_prices_submission.PoolQC) == True, \n",
    "                                             'No', house_prices_submission.PoolQC)\n",
    "\n",
    "print(house_prices_submission.shape)"
   ]
  },
  {
   "cell_type": "markdown",
   "metadata": {},
   "source": [
    "**Fence**"
   ]
  },
  {
   "cell_type": "code",
   "execution_count": 8,
   "metadata": {},
   "outputs": [
    {
     "data": {
      "text/plain": [
       "MnPrv    157\n",
       "GdPrv     59\n",
       "GdWo      54\n",
       "MnWw      11\n",
       "Name: Fence, dtype: int64"
      ]
     },
     "execution_count": 8,
     "metadata": {},
     "output_type": "execute_result"
    }
   ],
   "source": [
    "pd.value_counts(house_prices.Fence)"
   ]
  },
  {
   "cell_type": "code",
   "execution_count": 9,
   "metadata": {},
   "outputs": [
    {
     "name": "stdout",
     "output_type": "stream",
     "text": [
      "No       1179\n",
      "MnPrv     157\n",
      "GdPrv      59\n",
      "GdWo       54\n",
      "MnWw       11\n",
      "Name: Fence, dtype: int64\n",
      "(1459, 80)\n"
     ]
    }
   ],
   "source": [
    "house_prices['Fence'] = np.where(pd.isna(house_prices.Fence) == True, 'No', house_prices.Fence)\n",
    "print(pd.value_counts(house_prices.Fence))\n",
    "house_prices.head()\n",
    "\n",
    "# submission set\n",
    "house_prices_submission['Fence'] = np.where(pd.isna(house_prices_submission.Fence) == True, \n",
    "                                            'No', house_prices_submission.Fence)\n",
    "print(house_prices_submission.shape)"
   ]
  },
  {
   "cell_type": "markdown",
   "metadata": {},
   "source": [
    "**MiscFeature**"
   ]
  },
  {
   "cell_type": "code",
   "execution_count": 10,
   "metadata": {},
   "outputs": [
    {
     "name": "stdout",
     "output_type": "stream",
     "text": [
      "No      1406\n",
      "Shed      49\n",
      "Othr       2\n",
      "Gar2       2\n",
      "TenC       1\n",
      "Name: MiscFeature, dtype: int64\n",
      "(1459, 80)\n"
     ]
    }
   ],
   "source": [
    "house_prices['MiscFeature'] = np.where(pd.isna(house_prices.MiscFeature) == True, 'No', house_prices.MiscFeature)\n",
    "print(pd.value_counts(house_prices.MiscFeature))\n",
    "house_prices.head()\n",
    "\n",
    "# submission set\n",
    "house_prices_submission['MiscFeature'] = np.where(pd.isna(house_prices_submission.MiscFeature) == True, \n",
    "                                                  'No', house_prices_submission.MiscFeature)\n",
    "print(house_prices_submission.shape)"
   ]
  },
  {
   "cell_type": "markdown",
   "metadata": {},
   "source": [
    "## Pandas Profile"
   ]
  },
  {
   "cell_type": "code",
   "execution_count": 11,
   "metadata": {},
   "outputs": [],
   "source": [
    "#house_price_profile = ppf(house_prices, title='House Prices')\n",
    "#house_price_profile"
   ]
  },
  {
   "cell_type": "markdown",
   "metadata": {},
   "source": [
    "## Missiong Values Columns\n",
    "\n",
    "* GarageCond\n",
    "* LotFrontage\n",
    "* BsmtFinType1\n",
    "* BsmtFinType2\n",
    "* BsmtExposure\n",
    "* GarageType\n",
    "* GarageYrBlt\n",
    "* FireplaceQu\n",
    "\n",
    "* MasVnrArea\n",
    "* BsmtCond\n",
    "* BsmtQual\n",
    "* MasVnrType\n",
    "* GarageFinish\n",
    "* GarageQual\n",
    "\n",
    "Drop PoolQC"
   ]
  },
  {
   "cell_type": "code",
   "execution_count": 12,
   "metadata": {},
   "outputs": [],
   "source": [
    "def ImputeMedian(input_df, colname):\n",
    "    output_df = input_df.copy()\n",
    "    medianval = pd.DataFrame.mean (output_df[colname])\n",
    "    output_df[colname] = np.where(pd.isna(output_df[colname]),medianval, \n",
    "                                        output_df[colname])\n",
    "    return output_df\n",
    "\n",
    "def ImputeMedianInt(input_df, colname):\n",
    "    output_df = input_df.copy()\n",
    "    medianval = pd.DataFrame.mean (output_df[colname])\n",
    "    output_df[colname] = np.where(pd.isna(output_df[colname]),int(medianval), \n",
    "                                        output_df[colname])\n",
    "    return output_df"
   ]
  },
  {
   "cell_type": "code",
   "execution_count": 13,
   "metadata": {},
   "outputs": [],
   "source": [
    "def ImputeCatNo(input_df, colname):\n",
    "    output_df = input_df.copy()\n",
    "    output_df[colname] = np.where(pd.isna(output_df[colname]), \n",
    "                                      'No', output_df[colname])\n",
    "    return output_df"
   ]
  },
  {
   "cell_type": "markdown",
   "metadata": {},
   "source": [
    "**GarageCond**"
   ]
  },
  {
   "cell_type": "code",
   "execution_count": 14,
   "metadata": {},
   "outputs": [
    {
     "data": {
      "text/plain": [
       "TA    1326\n",
       "Fa      35\n",
       "Gd       9\n",
       "Po       7\n",
       "Ex       2\n",
       "Name: GarageCond, dtype: int64"
      ]
     },
     "execution_count": 14,
     "metadata": {},
     "output_type": "execute_result"
    }
   ],
   "source": [
    "pd.value_counts(house_prices['GarageCond'])"
   ]
  },
  {
   "cell_type": "code",
   "execution_count": 15,
   "metadata": {},
   "outputs": [
    {
     "name": "stdout",
     "output_type": "stream",
     "text": [
      "(1459, 80)\n"
     ]
    }
   ],
   "source": [
    "house_prices['GarageCond'] = np.where(pd.isna(house_prices['GarageCond']), \n",
    "                                      'No', house_prices['GarageCond'])\n",
    "# submission set\n",
    "house_prices_submission['GarageCond'] = np.where(pd.isna(house_prices_submission['GarageCond']), \n",
    "                                      'No', house_prices_submission['GarageCond'])\n",
    "pd.value_counts(house_prices['GarageCond'])\n",
    "print(house_prices_submission.shape)"
   ]
  },
  {
   "cell_type": "markdown",
   "metadata": {},
   "source": [
    "**LotFrontage**"
   ]
  },
  {
   "cell_type": "code",
   "execution_count": 16,
   "metadata": {},
   "outputs": [
    {
     "name": "stdout",
     "output_type": "stream",
     "text": [
      "LotFrontage    0\n",
      "dtype: int64\n",
      "(1459, 80)\n"
     ]
    }
   ],
   "source": [
    "house_prices = ImputeMedian(house_prices, 'LotFrontage')\n",
    "print(house_prices[['LotFrontage']].isnull().sum(axis = 0))\n",
    "\n",
    "# submission set\n",
    "house_prices_submission = ImputeMedian(house_prices_submission, 'LotFrontage')\n",
    "print(house_prices_submission.shape)"
   ]
  },
  {
   "cell_type": "markdown",
   "metadata": {},
   "source": [
    "**BsmtFinType1**"
   ]
  },
  {
   "cell_type": "code",
   "execution_count": 17,
   "metadata": {},
   "outputs": [
    {
     "name": "stdout",
     "output_type": "stream",
     "text": [
      "BsmtFinType1    0\n",
      "dtype: int64\n",
      "(1459, 80)\n"
     ]
    }
   ],
   "source": [
    "house_prices = ImputeCatNo(house_prices, 'BsmtFinType1')\n",
    "print(house_prices[['BsmtFinType1']].isnull().sum(axis = 0))\n",
    "\n",
    "# submission set\n",
    "house_prices_submission = ImputeCatNo(house_prices_submission, 'BsmtFinType1')\n",
    "print(house_prices_submission.shape)"
   ]
  },
  {
   "cell_type": "code",
   "execution_count": 18,
   "metadata": {},
   "outputs": [
    {
     "name": "stdout",
     "output_type": "stream",
     "text": [
      "BsmtFinType2    0\n",
      "dtype: int64\n",
      "(1459, 80)\n"
     ]
    }
   ],
   "source": [
    "house_prices = ImputeCatNo(house_prices, 'BsmtFinType2')\n",
    "print(house_prices[['BsmtFinType2']].isnull().sum(axis = 0))\n",
    "\n",
    "# submission set\n",
    "house_prices_submission = ImputeCatNo(house_prices_submission, 'BsmtFinType2')\n",
    "print(house_prices_submission.shape)"
   ]
  },
  {
   "cell_type": "markdown",
   "metadata": {},
   "source": [
    "**BsmtExposure**"
   ]
  },
  {
   "cell_type": "code",
   "execution_count": 19,
   "metadata": {},
   "outputs": [
    {
     "name": "stdout",
     "output_type": "stream",
     "text": [
      "BsmtExposure    0\n",
      "dtype: int64\n",
      "(1459, 80)\n"
     ]
    }
   ],
   "source": [
    "house_prices = ImputeCatNo(house_prices, 'BsmtExposure')\n",
    "print(house_prices[['BsmtExposure']].isnull().sum(axis = 0))\n",
    "\n",
    "# submission set\n",
    "house_prices_submission = ImputeCatNo(house_prices_submission, 'BsmtExposure')\n",
    "print(house_prices_submission.shape)"
   ]
  },
  {
   "cell_type": "markdown",
   "metadata": {},
   "source": [
    "**GarageType**"
   ]
  },
  {
   "cell_type": "code",
   "execution_count": 20,
   "metadata": {},
   "outputs": [
    {
     "name": "stdout",
     "output_type": "stream",
     "text": [
      "GarageType    0\n",
      "dtype: int64\n",
      "(1459, 80)\n"
     ]
    }
   ],
   "source": [
    "house_prices = ImputeCatNo(house_prices, 'GarageType')\n",
    "print(house_prices[['GarageType']].isnull().sum(axis = 0))\n",
    "\n",
    "# submission set\n",
    "house_prices_submission = ImputeCatNo(house_prices_submission, 'GarageType')\n",
    "print(house_prices_submission.shape)"
   ]
  },
  {
   "cell_type": "markdown",
   "metadata": {},
   "source": [
    "**GarageYrBlt**"
   ]
  },
  {
   "cell_type": "code",
   "execution_count": 21,
   "metadata": {},
   "outputs": [
    {
     "name": "stdout",
     "output_type": "stream",
     "text": [
      "GarageYrBlt    0\n",
      "dtype: int64\n",
      "(1459, 80)\n"
     ]
    }
   ],
   "source": [
    "house_prices = ImputeMedianInt(house_prices, 'GarageYrBlt')\n",
    "print(house_prices[['GarageYrBlt']].isnull().sum(axis = 0))\n",
    "\n",
    "# submission set\n",
    "house_prices_submission = ImputeMedianInt(house_prices_submission, 'GarageYrBlt')\n",
    "print(house_prices_submission.shape)"
   ]
  },
  {
   "cell_type": "markdown",
   "metadata": {},
   "source": [
    "**New Feature: GarageYearOld**"
   ]
  },
  {
   "cell_type": "code",
   "execution_count": 22,
   "metadata": {},
   "outputs": [],
   "source": [
    "# house_prices['GARAGE_YEAR_OLD'] = 2020 - house_prices.GarageYrBlt.astype('int32')\n",
    "# house_prices[['GarageYrBlt','GARAGE_YEAR_OLD']].head()\n",
    "\n",
    "# # submission\n",
    "# house_prices_submission['GARAGE_YEAR_OLD'] = 2020 - house_prices_submission.GarageYrBlt.astype('int32')\n",
    "# print(house_prices_submission.shape)"
   ]
  },
  {
   "cell_type": "markdown",
   "metadata": {},
   "source": [
    "**FireplaceQu**"
   ]
  },
  {
   "cell_type": "code",
   "execution_count": 23,
   "metadata": {},
   "outputs": [
    {
     "name": "stdout",
     "output_type": "stream",
     "text": [
      "FireplaceQu    0\n",
      "dtype: int64\n",
      "(1459, 80)\n"
     ]
    }
   ],
   "source": [
    "house_prices = ImputeCatNo(house_prices, 'FireplaceQu')\n",
    "print(house_prices[['FireplaceQu']].isnull().sum(axis = 0))\n",
    "\n",
    "# submission set\n",
    "house_prices_submission = ImputeCatNo(house_prices_submission, 'FireplaceQu')\n",
    "print(house_prices_submission.shape)"
   ]
  },
  {
   "cell_type": "markdown",
   "metadata": {},
   "source": [
    "**MasVnrArea**"
   ]
  },
  {
   "cell_type": "code",
   "execution_count": 24,
   "metadata": {},
   "outputs": [
    {
     "name": "stdout",
     "output_type": "stream",
     "text": [
      "MasVnrArea    0\n",
      "dtype: int64\n",
      "(1459, 80)\n"
     ]
    }
   ],
   "source": [
    "house_prices = ImputeMedianInt(house_prices, 'MasVnrArea')\n",
    "print(house_prices[['MasVnrArea']].isnull().sum(axis = 0))\n",
    "\n",
    "# submission set\n",
    "house_prices_submission = ImputeMedianInt(house_prices_submission, 'MasVnrArea')\n",
    "print(house_prices_submission.shape)"
   ]
  },
  {
   "cell_type": "markdown",
   "metadata": {},
   "source": [
    "**BsmtCond**"
   ]
  },
  {
   "cell_type": "code",
   "execution_count": 25,
   "metadata": {},
   "outputs": [
    {
     "name": "stdout",
     "output_type": "stream",
     "text": [
      "BsmtCond    0\n",
      "dtype: int64\n",
      "(1459, 80)\n"
     ]
    }
   ],
   "source": [
    "house_prices = ImputeCatNo(house_prices, 'BsmtCond')\n",
    "print(house_prices[['BsmtCond']].isnull().sum(axis = 0))\n",
    "\n",
    "# submission set\n",
    "house_prices_submission = ImputeCatNo(house_prices_submission, 'BsmtCond')\n",
    "print(house_prices_submission.shape)"
   ]
  },
  {
   "cell_type": "markdown",
   "metadata": {},
   "source": [
    "**BsmtQual**"
   ]
  },
  {
   "cell_type": "code",
   "execution_count": 26,
   "metadata": {},
   "outputs": [
    {
     "name": "stdout",
     "output_type": "stream",
     "text": [
      "BsmtQual    0\n",
      "dtype: int64\n",
      "(1459, 80)\n"
     ]
    }
   ],
   "source": [
    "house_prices = ImputeCatNo(house_prices, 'BsmtQual')\n",
    "print(house_prices[['BsmtQual']].isnull().sum(axis = 0))\n",
    "\n",
    "# submission set\n",
    "house_prices_submission = ImputeCatNo(house_prices_submission, 'BsmtQual')\n",
    "print(house_prices_submission.shape)"
   ]
  },
  {
   "cell_type": "markdown",
   "metadata": {},
   "source": [
    "**MasVnrType**"
   ]
  },
  {
   "cell_type": "code",
   "execution_count": 27,
   "metadata": {},
   "outputs": [
    {
     "name": "stdout",
     "output_type": "stream",
     "text": [
      "MasVnrType    0\n",
      "dtype: int64\n",
      "(1459, 80)\n"
     ]
    }
   ],
   "source": [
    "house_prices = ImputeCatNo(house_prices, 'MasVnrType')\n",
    "print(house_prices[['MasVnrType']].isnull().sum(axis = 0))\n",
    "\n",
    "# submission set\n",
    "house_prices_submission = ImputeCatNo(house_prices_submission, 'MasVnrType')\n",
    "print(house_prices_submission.shape)"
   ]
  },
  {
   "cell_type": "markdown",
   "metadata": {},
   "source": [
    "**GarageFinish**"
   ]
  },
  {
   "cell_type": "code",
   "execution_count": 28,
   "metadata": {},
   "outputs": [
    {
     "name": "stdout",
     "output_type": "stream",
     "text": [
      "GarageFinish    0\n",
      "dtype: int64\n",
      "(1459, 80)\n"
     ]
    }
   ],
   "source": [
    "house_prices = ImputeCatNo(house_prices, 'GarageFinish')\n",
    "print(house_prices[['GarageFinish']].isnull().sum(axis = 0))\n",
    "\n",
    "# submission set\n",
    "house_prices_submission = ImputeCatNo(house_prices_submission, 'GarageFinish')\n",
    "print(house_prices_submission.shape)"
   ]
  },
  {
   "cell_type": "markdown",
   "metadata": {},
   "source": [
    "**GarageQual**"
   ]
  },
  {
   "cell_type": "code",
   "execution_count": 29,
   "metadata": {},
   "outputs": [
    {
     "name": "stdout",
     "output_type": "stream",
     "text": [
      "GarageQual    0\n",
      "dtype: int64\n",
      "(1459, 80)\n"
     ]
    }
   ],
   "source": [
    "house_prices = ImputeCatNo(house_prices, 'GarageQual')\n",
    "print(house_prices[['GarageQual']].isnull().sum(axis = 0))\n",
    "\n",
    "# submission set\n",
    "house_prices_submission = ImputeCatNo(house_prices_submission, 'GarageQual')\n",
    "print(house_prices_submission.shape)"
   ]
  },
  {
   "cell_type": "code",
   "execution_count": 30,
   "metadata": {},
   "outputs": [],
   "source": [
    "# house_prices.FireplaceQu.value_counts()\n",
    "# house_prices[['GarageYrBlt']].isnull().sum(axis = 0)"
   ]
  },
  {
   "cell_type": "markdown",
   "metadata": {},
   "source": [
    "# DATA TRANSFORMATION"
   ]
  },
  {
   "cell_type": "markdown",
   "metadata": {},
   "source": [
    "DAI Recommended:\n",
    "\n",
    "* \"square_root\" transformation of TotalBsmtSF\n",
    "* \"square_root\" transformation of OpenPorchSF\n",
    "* \"inverse\" transformation of SalePrice\n",
    "* \"inverse\" transformation of MoSold"
   ]
  },
  {
   "cell_type": "code",
   "execution_count": 31,
   "metadata": {},
   "outputs": [],
   "source": [
    "house_prices['TOTAL_BSMT_SF_SQRT'] = np.sqrt(house_prices['TotalBsmtSF'])\n",
    "house_prices['OPEN_PORCH_SF_SQRT'] = np.sqrt(house_prices['OpenPorchSF'])\n",
    "house_prices['MO_SOLD_INV'] = np.invert(house_prices['MoSold'])\n",
    "\n",
    "house_prices_submission['TOTAL_BSMT_SF_SQRT'] = np.sqrt(house_prices_submission['TotalBsmtSF'])\n",
    "house_prices_submission['OPEN_PORCH_SF_SQRT'] = np.sqrt(house_prices_submission['OpenPorchSF'])\n",
    "house_prices_submission['MO_SOLD_INV'] = np.invert(house_prices_submission['MoSold'])"
   ]
  },
  {
   "cell_type": "markdown",
   "metadata": {},
   "source": [
    "### Drop Original Colmns"
   ]
  },
  {
   "cell_type": "code",
   "execution_count": 32,
   "metadata": {},
   "outputs": [],
   "source": [
    "house_prices = house_prices.drop(['TotalBsmtSF'], axis = 1)\n",
    "house_prices = house_prices.drop(['OpenPorchSF'], axis = 1)\n",
    "house_prices = house_prices.drop(['MoSold'], axis = 1)\n",
    "\n",
    "house_prices_submission = house_prices_submission.drop(['TotalBsmtSF'], axis = 1)\n",
    "house_prices_submission = house_prices_submission.drop(['OpenPorchSF'], axis = 1)\n",
    "house_prices_submission = house_prices_submission.drop(['MoSold'], axis = 1)"
   ]
  },
  {
   "cell_type": "markdown",
   "metadata": {},
   "source": [
    "### Total Square Foot - 1st + 2nd Floor\n",
    "\n",
    "Create new features"
   ]
  },
  {
   "cell_type": "code",
   "execution_count": 33,
   "metadata": {},
   "outputs": [],
   "source": [
    "house_prices['TOTAL_FLR_SQFT'] = np.add(house_prices['1stFlrSF'], house_prices['2ndFlrSF'])\n",
    "house_prices['TOTAL_FLR_CNT'] = np.where(house_prices['2ndFlrSF'] == 0, 1, 2)\n",
    "house_prices[['TOTAL_FLR_SQFT', '1stFlrSF', '2ndFlrSF', 'TOTAL_FLR_CNT']].head()\n",
    "\n",
    "# submission\n",
    "house_prices_submission['TOTAL_FLR_SQFT'] = np.add(house_prices_submission['1stFlrSF'], \n",
    "                                                   house_prices_submission['2ndFlrSF'])\n",
    "house_prices_submission['TOTAL_FLR_CNT'] = np.where(house_prices_submission['2ndFlrSF'] == 0, 1, 2)"
   ]
  },
  {
   "cell_type": "markdown",
   "metadata": {},
   "source": [
    "Drop original columns"
   ]
  },
  {
   "cell_type": "code",
   "execution_count": 34,
   "metadata": {},
   "outputs": [],
   "source": [
    "house_prices = house_prices.drop(['1stFlrSF'], axis = 1)\n",
    "house_prices = house_prices.drop(['2ndFlrSF'], axis = 1)\n",
    "\n",
    "house_prices_submission = house_prices_submission.drop(['1stFlrSF'], axis = 1)\n",
    "house_prices_submission = house_prices_submission.drop(['2ndFlrSF'], axis = 1)"
   ]
  },
  {
   "cell_type": "markdown",
   "metadata": {},
   "source": [
    "### Sold Date"
   ]
  },
  {
   "cell_type": "code",
   "execution_count": 44,
   "metadata": {},
   "outputs": [
    {
     "ename": "KeyError",
     "evalue": "\"['MoSold'] not in index\"",
     "output_type": "error",
     "traceback": [
      "\u001b[0;31m---------------------------------------------------------------------------\u001b[0m",
      "\u001b[0;31mKeyError\u001b[0m                                  Traceback (most recent call last)",
      "\u001b[0;32m<ipython-input-44-a44d8833e0dc>\u001b[0m in \u001b[0;36m<module>\u001b[0;34m\u001b[0m\n\u001b[1;32m      1\u001b[0m \u001b[0mhouse_prices\u001b[0m\u001b[0;34m[\u001b[0m\u001b[0;34m'SOLD_DATE'\u001b[0m\u001b[0;34m]\u001b[0m \u001b[0;34m=\u001b[0m \u001b[0mhouse_prices\u001b[0m\u001b[0;34m[\u001b[0m\u001b[0;34m'YrSold'\u001b[0m\u001b[0;34m]\u001b[0m\u001b[0;34m.\u001b[0m\u001b[0mastype\u001b[0m\u001b[0;34m(\u001b[0m\u001b[0;34m'str'\u001b[0m\u001b[0;34m)\u001b[0m\u001b[0;34m\u001b[0m\u001b[0;34m\u001b[0m\u001b[0m\n\u001b[0;32m----> 2\u001b[0;31m \u001b[0mhouse_prices\u001b[0m\u001b[0;34m[\u001b[0m\u001b[0;34m[\u001b[0m\u001b[0;34m'SOLD_DATE'\u001b[0m\u001b[0;34m,\u001b[0m \u001b[0;34m'YrSold'\u001b[0m\u001b[0;34m,\u001b[0m \u001b[0;34m'MoSold'\u001b[0m\u001b[0;34m]\u001b[0m\u001b[0;34m]\u001b[0m\u001b[0;34m.\u001b[0m\u001b[0mhead\u001b[0m\u001b[0;34m(\u001b[0m\u001b[0;34m)\u001b[0m\u001b[0;34m\u001b[0m\u001b[0;34m\u001b[0m\u001b[0m\n\u001b[0m",
      "\u001b[0;32m~/opt/anaconda3/envs/ML/lib/python3.8/site-packages/pandas/core/frame.py\u001b[0m in \u001b[0;36m__getitem__\u001b[0;34m(self, key)\u001b[0m\n\u001b[1;32m   2910\u001b[0m             \u001b[0;32mif\u001b[0m \u001b[0mis_iterator\u001b[0m\u001b[0;34m(\u001b[0m\u001b[0mkey\u001b[0m\u001b[0;34m)\u001b[0m\u001b[0;34m:\u001b[0m\u001b[0;34m\u001b[0m\u001b[0;34m\u001b[0m\u001b[0m\n\u001b[1;32m   2911\u001b[0m                 \u001b[0mkey\u001b[0m \u001b[0;34m=\u001b[0m \u001b[0mlist\u001b[0m\u001b[0;34m(\u001b[0m\u001b[0mkey\u001b[0m\u001b[0;34m)\u001b[0m\u001b[0;34m\u001b[0m\u001b[0;34m\u001b[0m\u001b[0m\n\u001b[0;32m-> 2912\u001b[0;31m             \u001b[0mindexer\u001b[0m \u001b[0;34m=\u001b[0m \u001b[0mself\u001b[0m\u001b[0;34m.\u001b[0m\u001b[0mloc\u001b[0m\u001b[0;34m.\u001b[0m\u001b[0m_get_listlike_indexer\u001b[0m\u001b[0;34m(\u001b[0m\u001b[0mkey\u001b[0m\u001b[0;34m,\u001b[0m \u001b[0maxis\u001b[0m\u001b[0;34m=\u001b[0m\u001b[0;36m1\u001b[0m\u001b[0;34m,\u001b[0m \u001b[0mraise_missing\u001b[0m\u001b[0;34m=\u001b[0m\u001b[0;32mTrue\u001b[0m\u001b[0;34m)\u001b[0m\u001b[0;34m[\u001b[0m\u001b[0;36m1\u001b[0m\u001b[0;34m]\u001b[0m\u001b[0;34m\u001b[0m\u001b[0;34m\u001b[0m\u001b[0m\n\u001b[0m\u001b[1;32m   2913\u001b[0m \u001b[0;34m\u001b[0m\u001b[0m\n\u001b[1;32m   2914\u001b[0m         \u001b[0;31m# take() does not accept boolean indexers\u001b[0m\u001b[0;34m\u001b[0m\u001b[0;34m\u001b[0m\u001b[0;34m\u001b[0m\u001b[0m\n",
      "\u001b[0;32m~/opt/anaconda3/envs/ML/lib/python3.8/site-packages/pandas/core/indexing.py\u001b[0m in \u001b[0;36m_get_listlike_indexer\u001b[0;34m(self, key, axis, raise_missing)\u001b[0m\n\u001b[1;32m   1252\u001b[0m             \u001b[0mkeyarr\u001b[0m\u001b[0;34m,\u001b[0m \u001b[0mindexer\u001b[0m\u001b[0;34m,\u001b[0m \u001b[0mnew_indexer\u001b[0m \u001b[0;34m=\u001b[0m \u001b[0max\u001b[0m\u001b[0;34m.\u001b[0m\u001b[0m_reindex_non_unique\u001b[0m\u001b[0;34m(\u001b[0m\u001b[0mkeyarr\u001b[0m\u001b[0;34m)\u001b[0m\u001b[0;34m\u001b[0m\u001b[0;34m\u001b[0m\u001b[0m\n\u001b[1;32m   1253\u001b[0m \u001b[0;34m\u001b[0m\u001b[0m\n\u001b[0;32m-> 1254\u001b[0;31m         \u001b[0mself\u001b[0m\u001b[0;34m.\u001b[0m\u001b[0m_validate_read_indexer\u001b[0m\u001b[0;34m(\u001b[0m\u001b[0mkeyarr\u001b[0m\u001b[0;34m,\u001b[0m \u001b[0mindexer\u001b[0m\u001b[0;34m,\u001b[0m \u001b[0maxis\u001b[0m\u001b[0;34m,\u001b[0m \u001b[0mraise_missing\u001b[0m\u001b[0;34m=\u001b[0m\u001b[0mraise_missing\u001b[0m\u001b[0;34m)\u001b[0m\u001b[0;34m\u001b[0m\u001b[0;34m\u001b[0m\u001b[0m\n\u001b[0m\u001b[1;32m   1255\u001b[0m         \u001b[0;32mreturn\u001b[0m \u001b[0mkeyarr\u001b[0m\u001b[0;34m,\u001b[0m \u001b[0mindexer\u001b[0m\u001b[0;34m\u001b[0m\u001b[0;34m\u001b[0m\u001b[0m\n\u001b[1;32m   1256\u001b[0m \u001b[0;34m\u001b[0m\u001b[0m\n",
      "\u001b[0;32m~/opt/anaconda3/envs/ML/lib/python3.8/site-packages/pandas/core/indexing.py\u001b[0m in \u001b[0;36m_validate_read_indexer\u001b[0;34m(self, key, indexer, axis, raise_missing)\u001b[0m\n\u001b[1;32m   1302\u001b[0m             \u001b[0;32mif\u001b[0m \u001b[0mraise_missing\u001b[0m\u001b[0;34m:\u001b[0m\u001b[0;34m\u001b[0m\u001b[0;34m\u001b[0m\u001b[0m\n\u001b[1;32m   1303\u001b[0m                 \u001b[0mnot_found\u001b[0m \u001b[0;34m=\u001b[0m \u001b[0mlist\u001b[0m\u001b[0;34m(\u001b[0m\u001b[0mset\u001b[0m\u001b[0;34m(\u001b[0m\u001b[0mkey\u001b[0m\u001b[0;34m)\u001b[0m \u001b[0;34m-\u001b[0m \u001b[0mset\u001b[0m\u001b[0;34m(\u001b[0m\u001b[0max\u001b[0m\u001b[0;34m)\u001b[0m\u001b[0;34m)\u001b[0m\u001b[0;34m\u001b[0m\u001b[0;34m\u001b[0m\u001b[0m\n\u001b[0;32m-> 1304\u001b[0;31m                 \u001b[0;32mraise\u001b[0m \u001b[0mKeyError\u001b[0m\u001b[0;34m(\u001b[0m\u001b[0;34mf\"{not_found} not in index\"\u001b[0m\u001b[0;34m)\u001b[0m\u001b[0;34m\u001b[0m\u001b[0;34m\u001b[0m\u001b[0m\n\u001b[0m\u001b[1;32m   1305\u001b[0m \u001b[0;34m\u001b[0m\u001b[0m\n\u001b[1;32m   1306\u001b[0m             \u001b[0;31m# we skip the warning on Categorical\u001b[0m\u001b[0;34m\u001b[0m\u001b[0;34m\u001b[0m\u001b[0;34m\u001b[0m\u001b[0m\n",
      "\u001b[0;31mKeyError\u001b[0m: \"['MoSold'] not in index\""
     ]
    }
   ],
   "source": [
    "house_prices['SOLD_DATE'] = house_prices['YrSold'].astype('str') \n",
    "house_prices[['SOLD_DATE', 'YrSold', 'MoSold']].head()"
   ]
  },
  {
   "cell_type": "code",
   "execution_count": null,
   "metadata": {},
   "outputs": [],
   "source": []
  },
  {
   "cell_type": "markdown",
   "metadata": {},
   "source": [
    "## REMOVE OUTLIERS\n",
    "\n",
    "* Id = 935, 1299, 323\n",
    "* Actual SalesPrice = 184750, 160000, 755000, 147000"
   ]
  },
  {
   "cell_type": "code",
   "execution_count": 35,
   "metadata": {},
   "outputs": [],
   "source": [
    "# house_prices.loc[house_prices.SalePrice.isin ( [184750,160000,745000,755000,147000])]"
   ]
  },
  {
   "cell_type": "code",
   "execution_count": 36,
   "metadata": {},
   "outputs": [],
   "source": [
    "# house_prices.drop(house_prices[house_prices.Id.isin(['1299' #'935', #'323'\n",
    "#                                                     ])].index, inplace=True)\n",
    "                               \n",
    "# house_prices.drop(house_prices[house_prices.SalePrice.isin([184750, 160000])].index,inplace=True)\n",
    "# print(house_prices.shape)"
   ]
  },
  {
   "cell_type": "markdown",
   "metadata": {},
   "source": [
    "# WRITE TO CSV"
   ]
  },
  {
   "cell_type": "markdown",
   "metadata": {},
   "source": [
    "Drop PoolQC, GarageYrBlt"
   ]
  },
  {
   "cell_type": "code",
   "execution_count": 37,
   "metadata": {},
   "outputs": [],
   "source": [
    "# house_prices = house_prices.drop(['GarageYrBlt'], axis = 1)\n",
    "# house_prices_submission = house_prices_submission.drop(['GarageYrBlt'], axis = 1)"
   ]
  },
  {
   "cell_type": "code",
   "execution_count": 38,
   "metadata": {},
   "outputs": [
    {
     "name": "stdout",
     "output_type": "stream",
     "text": [
      "(1460, 81)\n",
      "(1459, 80)\n"
     ]
    }
   ],
   "source": [
    "print(house_prices.shape)\n",
    "print(house_prices_submission.shape)"
   ]
  },
  {
   "cell_type": "code",
   "execution_count": 39,
   "metadata": {},
   "outputs": [],
   "source": [
    "house_prices.to_csv(\"data/HousePrices_T1.csv\", index = False)\n",
    "house_prices_submission.to_csv(\"data/HousePrices_T1_submission.csv\", index = False)"
   ]
  }
 ],
 "metadata": {
  "@webio": {
   "lastCommId": null,
   "lastKernelId": null
  },
  "kernelspec": {
   "display_name": "Python 3",
   "language": "python",
   "name": "python3"
  },
  "language_info": {
   "codemirror_mode": {
    "name": "ipython",
    "version": 3
   },
   "file_extension": ".py",
   "mimetype": "text/x-python",
   "name": "python",
   "nbconvert_exporter": "python",
   "pygments_lexer": "ipython3",
   "version": "3.8.5"
  }
 },
 "nbformat": 4,
 "nbformat_minor": 4
}
